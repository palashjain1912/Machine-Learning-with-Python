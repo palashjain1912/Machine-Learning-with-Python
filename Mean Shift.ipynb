{
 "cells": [
  {
   "cell_type": "code",
   "execution_count": 79,
   "metadata": {},
   "outputs": [],
   "source": [
    "import matplotlib.pyplot as plt\n",
    "from matplotlib import style\n",
    "style.use('ggplot')\n",
    "import numpy as np\n",
    "from sklearn.datasets.samples_generator import make_blobs"
   ]
  },
  {
   "cell_type": "code",
   "execution_count": 102,
   "metadata": {},
   "outputs": [],
   "source": [
    "X = np.array([[1,2],\n",
    "             [1.5,1.8],\n",
    "             [5,8],\n",
    "             [8,8],\n",
    "             [1,0.6],\n",
    "             [9,11],\n",
    "             [8,2],\n",
    "             [10,2],\n",
    "             [9,3]])"
   ]
  },
  {
   "cell_type": "code",
   "execution_count": 108,
   "metadata": {},
   "outputs": [],
   "source": [
    "X,y = make_blobs(n_samples = 10,centers = 3 , n_features = 2)"
   ]
  },
  {
   "cell_type": "code",
   "execution_count": 109,
   "metadata": {},
   "outputs": [
    {
     "data": {
      "image/png": "[encoded data removed]",
      "text/plain": [
       "<Figure size 432x288 with 1 Axes>"
      ]
     },
     "metadata": {},
     "output_type": "display_data"
    }
   ],
   "source": [
    "plt.scatter(X[:,0],X[:,1],s=150)\n",
    "plt.show()"
   ]
  },
  {
   "cell_type": "code",
   "execution_count": 110,
   "metadata": {},
   "outputs": [],
   "source": [
    "colors = 10*['g','r','c','b','k']"
   ]
  },
  {
   "cell_type": "code",
   "execution_count": 111,
   "metadata": {},
   "outputs": [],
   "source": [
    "class Mean_Shift:\n",
    "    def __init__(self, radius = None, radius_norm_step = 200):\n",
    "        self.radius =radius\n",
    "        self.radius_norm_step = radius_norm_step\n",
    "    \n",
    "    def fit(self,data):\n",
    "        \n",
    "        if self.radius == None:\n",
    "            all_data_centroid = np.average(data,axis = 0)\n",
    "            all_data_norm = np.linalg.norm(all_data_centroid)\n",
    "            self.radius = all_data_norm/self.radius_norm_step\n",
    "            \n",
    "        centroids = {}\n",
    "        \n",
    "        for i in range(len(data)):\n",
    "            centroids[i] = data[i]\n",
    "       \n",
    "        weights = [i for i in range(self.radius_norm_step)][::-1]\n",
    "                \n",
    "        while True:\n",
    "            new_centroids = []\n",
    "            for i in centroids:\n",
    "                in_bandwidth = []\n",
    "                centroid = centroids[i]\n",
    "                \n",
    "                for featureset in data:\n",
    "                    distance = np.linalg.norm(featureset - centroid)\n",
    "                    if distance == 0 :\n",
    "                        distance = 0.000000001\n",
    "                    weight_index = int(distance/self.radius)\n",
    "                    if weight_index > self.radius_norm_step - 1:\n",
    "                        weight_index = self.radius_norm_step - 1\n",
    "                    to_add = (weights[weight_index]**2)*[featureset]\n",
    "                    in_bandwidth += to_add\n",
    "                    \n",
    "                new_centroid = np.average(in_bandwidth,axis =0)\n",
    "                new_centroids.append(tuple(new_centroid))\n",
    "                \n",
    "            uniques = sorted(list(set(new_centroids)))\n",
    "            \n",
    "            to_pop = []\n",
    "            \n",
    "            for i in uniques:\n",
    "                for ii in uniques:\n",
    "                    if i == ii:\n",
    "                        pass\n",
    "                    elif np.linalg.norm(np.array(i) - np.array(ii)) <= self.radius:\n",
    "                        to_pop.append(ii)\n",
    "                        break\n",
    "                        \n",
    "                        \n",
    "            for i in to_pop:\n",
    "                try:\n",
    "                    uniques.remove(i)\n",
    "                except:\n",
    "                    pass\n",
    "                \n",
    "            prev_centroids = dict(centroids)\n",
    "            \n",
    "            centroids = {} \n",
    "            for i in range(len(uniques)):\n",
    "                centroids[i] = np.array(uniques[i])\n",
    "            \n",
    "            \n",
    "            optimized = True\n",
    "            \n",
    "            for i in centroids:\n",
    "                if not np.array_equal(centroids[i],prev_centroids[i]):\n",
    "                    optimized = False\n",
    "                if not optimized:\n",
    "                    break\n",
    "            if optimized:\n",
    "                break\n",
    "            \n",
    "        self.centroids = centroids\n",
    "        \n",
    "        self.classifications = {}\n",
    "        \n",
    "        for i in range(len(self.centroids)):\n",
    "            self.classifications[i] = []\n",
    "        \n",
    "        for featureset in data:\n",
    "            distances = [np.linalg.norm(featureset  - self.centroids[centroid]) for centroid in self.centroids]\n",
    "            classification = distances.index(min(distances))\n",
    "            self.classifications[classification].append(featureset)\n",
    "            \n",
    "    def predict(self,data):\n",
    "        distances = [np.linalg.norm(featureset  - self.centroids[centroid]) for centroid in self.centroids]\n",
    "        classification = distances.index(min(distances))\n",
    "        return classification\n",
    "            \n",
    "            \n",
    "    "
   ]
  },
  {
   "cell_type": "code",
   "execution_count": 112,
   "metadata": {
    "scrolled": false
   },
   "outputs": [
    {
     "data": {
      "image/png": "[encoded data removed]",
      "text/plain": [
       "<Figure size 432x288 with 1 Axes>"
      ]
     },
     "metadata": {},
     "output_type": "display_data"
    }
   ],
   "source": [
    "clf = Mean_Shift()\n",
    "clf.fit(X)\n",
    "\n",
    "centroids = clf.centroids\n",
    "\n",
    "\n",
    "for classification in clf.classifications:\n",
    "    color = colors[classification]\n",
    "    for featureset in clf.classifications[classification]:\n",
    "        plt.scatter(featureset[0],featureset[1],marker = \"x\",color=color,s=150)\n",
    "        \n",
    "    \n",
    "for c in centroids:\n",
    "    plt.scatter(centroids[c][0],centroids[c][1],color = 'k' ,marker = '*' , s =150)\n",
    "plt.show()"
   ]
  },
  {
   "cell_type": "code",
   "execution_count": null,
   "metadata": {},
   "outputs": [],
   "source": []
  },
  {
   "cell_type": "code",
   "execution_count": null,
   "metadata": {},
   "outputs": [],
   "source": []
  }
 ],
 "metadata": {
  "kernelspec": {
   "display_name": "Python 3",
   "language": "python",
   "name": "python3"
  },
  "language_info": {
   "codemirror_mode": {
    "name": "ipython",
    "version": 3
   },
   "file_extension": ".py",
   "mimetype": "text/x-python",
   "name": "python",
   "nbconvert_exporter": "python",
   "pygments_lexer": "ipython3",
   "version": "3.7.4"
  }
 },
 "nbformat": 4,
 "nbformat_minor": 2
}
